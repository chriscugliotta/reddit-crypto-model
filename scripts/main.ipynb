{
 "cells": [
  {
   "cell_type": "code",
   "execution_count": null,
   "metadata": {},
   "outputs": [],
   "source": [
    "# External imports.\n",
    "import logging\n",
    "import pandas\n",
    "import sys\n",
    "from datetime import date, datetime, timedelta\n",
    "from pathlib import Path\n",
    "\n",
    "# Hack Python path.\n",
    "if 'path_repo' not in vars():\n",
    "    path_repo = Path.cwd().parents[0]\n",
    "    sys.path.insert(0, str(path_repo))\n",
    "\n",
    "# Internal imports.\n",
    "from main import *\n",
    "\n",
    "# Configure Pandas.\n",
    "pandas.options.display.max_columns = None\n",
    "pandas.options.display.max_colwidth = 200\n",
    "pandas.options.display.max_rows = 20\n",
    "\n",
    "# Initialize logger.\n",
    "log = logging.getLogger('cc_idea')\n",
    "initialize_logger()\n",
    "log.handlers[0].setFormatter(logging.Formatter('%(name)-25s %(funcName)-15s %(message)s'))\n",
    "log.info(f'sys.executable = {sys.executable}.')\n",
    "log.info('Ready.')"
   ]
  },
  {
   "cell_type": "code",
   "execution_count": null,
   "metadata": {},
   "outputs": [],
   "source": [
    "# Log.\n",
    "log.info('Begin.')\n",
    "log.info(f'config = \\n{yaml.dump(config, indent=4)}')\n",
    "\n",
    "# Extract.\n",
    "data = {}\n",
    "data['yahoo'] = extract_prices()\n",
    "data['reddit'] = extract_reddit()\n",
    "data['sentiment'] = transform_sentiment(data)\n",
    "\n",
    "# Log.\n",
    "log.info('Done.')"
   ]
  },
  {
   "cell_type": "code",
   "execution_count": null,
   "metadata": {},
   "outputs": [],
   "source": []
  },
  {
   "cell_type": "code",
   "execution_count": null,
   "metadata": {},
   "outputs": [],
   "source": []
  },
  {
   "cell_type": "code",
   "execution_count": null,
   "metadata": {},
   "outputs": [],
   "source": []
  }
 ],
 "metadata": {
  "kernelspec": {
   "display_name": "Python 3.7.7 ('.venv': venv)",
   "language": "python",
   "name": "python3"
  },
  "language_info": {
   "codemirror_mode": {
    "name": "ipython",
    "version": 3
   },
   "file_extension": ".py",
   "mimetype": "text/x-python",
   "name": "python",
   "nbconvert_exporter": "python",
   "pygments_lexer": "ipython3",
   "version": "3.7.7"
  },
  "orig_nbformat": 4,
  "vscode": {
   "interpreter": {
    "hash": "901d96e18e73e1f5e5b465b7737beef4220779eb93c8a4d86ff5ff5359869a40"
   }
  }
 },
 "nbformat": 4,
 "nbformat_minor": 2
}
