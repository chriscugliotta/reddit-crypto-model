{
 "cells": [
  {
   "cell_type": "code",
   "execution_count": null,
   "metadata": {},
   "outputs": [],
   "source": [
    "# External imports.\n",
    "import logging\n",
    "import pandas as pd\n",
    "import requests\n",
    "import sys\n",
    "from datetime import datetime, timedelta\n",
    "from pathlib import Path\n",
    "\n",
    "# Hack Python path.\n",
    "path_repo = Path.cwd().parents[0]\n",
    "sys.path.insert(0, str(path_repo))\n",
    "\n",
    "# Internal imports.\n",
    "from main import *\n",
    "\n",
    "# Configure Pandas.\n",
    "pd.options.display.max_columns = None\n",
    "pd.options.display.max_rows = 20\n",
    "\n",
    "# Initialize logger.\n",
    "log = logging.getLogger('cc_idea')\n",
    "initialize_logger()\n",
    "log.info(f'sys.executable = {sys.executable}.')\n",
    "log.info('Ready.')"
   ]
  },
  {
   "cell_type": "code",
   "execution_count": null,
   "metadata": {},
   "outputs": [],
   "source": [
    "_log = logging.getLogger('cc_idea.extractors.reddit')\n",
    "_log.disabled = True\n",
    "df_comments = get_comments(\n",
    "    q='doge',\n",
    "    start_date=datetime(2020, 1, 1, 0, 0, 0),\n",
    "    end_date=datetime(2020, 2, 1, 0, 0, 0),\n",
    ")\n",
    "_log.disabled = False\n",
    "df_comments.groupby('subreddit').size().to_frame('count').sort_values(by='count', ascending=False).head(10)"
   ]
  },
  {
   "cell_type": "code",
   "execution_count": null,
   "metadata": {},
   "outputs": [],
   "source": []
  },
  {
   "cell_type": "code",
   "execution_count": null,
   "metadata": {},
   "outputs": [],
   "source": []
  },
  {
   "cell_type": "code",
   "execution_count": null,
   "metadata": {},
   "outputs": [],
   "source": []
  }
 ],
 "metadata": {
  "interpreter": {
   "hash": "9a3f5335182b974d8c5889589f09b7f507e6946f3e5baa90244f8077a23f1931"
  },
  "kernelspec": {
   "display_name": "Python 3.7.7 64-bit ('.venv': venv)",
   "language": "python",
   "name": "python3"
  },
  "language_info": {
   "codemirror_mode": {
    "name": "ipython",
    "version": 3
   },
   "file_extension": ".py",
   "mimetype": "text/x-python",
   "name": "python",
   "nbconvert_exporter": "python",
   "pygments_lexer": "ipython3",
   "version": "3.7.7"
  },
  "orig_nbformat": 4
 },
 "nbformat": 4,
 "nbformat_minor": 2
}
