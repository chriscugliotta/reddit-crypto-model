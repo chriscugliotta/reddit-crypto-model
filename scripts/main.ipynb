{
 "cells": [
  {
   "cell_type": "code",
   "execution_count": null,
   "metadata": {},
   "outputs": [],
   "source": [
    "# External imports.\n",
    "import logging\n",
    "import pandas\n",
    "import sys\n",
    "from datetime import date, datetime, timedelta\n",
    "from pathlib import Path\n",
    "\n",
    "# Hack Python path.\n",
    "if 'path_repo' not in vars():\n",
    "    path_repo = Path.cwd().parents[0]\n",
    "    sys.path.insert(0, str(path_repo))\n",
    "\n",
    "# Internal imports.\n",
    "from main import *\n",
    "\n",
    "# Configure Pandas.\n",
    "pandas.options.display.max_columns = None\n",
    "pandas.options.display.max_colwidth = 200\n",
    "pandas.options.display.max_rows = 20\n",
    "\n",
    "# Initialize logger.\n",
    "log = logging.getLogger('rcm')\n",
    "initialize_logger()\n",
    "log.handlers[0].setFormatter(logging.Formatter('%(name)-25s %(funcName)-15s %(message)s'))\n",
    "log.info(f'sys.executable = {sys.executable}.')\n",
    "log.info('Ready.')"
   ]
  },
  {
   "cell_type": "code",
   "execution_count": null,
   "metadata": {},
   "outputs": [],
   "source": [
    "# Log.\n",
    "log.info('Begin.')\n",
    "log.info(f'config = \\n{yaml.dump(config._yaml, indent=4)}')\n",
    "\n",
    "# Extract.\n",
    "data = {}\n",
    "data['yahoo_finance_price_history'] = extract_yahoo()\n",
    "data['reddit_comments'] = extract_reddit('comment')\n",
    "data['reddit_submissions'] = extract_reddit('submission')\n",
    "\n",
    "# Transform.\n",
    "data['reddit_comments_sentiment'] = transform_sentiment(data, 'comment')\n",
    "data['reddit_submissions_sentiment'] = transform_sentiment(data, 'submission')\n",
    "data['reddit_aggregations'] = AggregationTransformer().transform(data)\n",
    "\n",
    "# Log.\n",
    "log.info('Done.')"
   ]
  },
  {
   "cell_type": "code",
   "execution_count": null,
   "metadata": {},
   "outputs": [],
   "source": []
  },
  {
   "cell_type": "code",
   "execution_count": null,
   "metadata": {},
   "outputs": [],
   "source": []
  },
  {
   "cell_type": "code",
   "execution_count": null,
   "metadata": {},
   "outputs": [],
   "source": []
  }
 ],
 "metadata": {
  "kernelspec": {
   "display_name": "Python 3.7.7 ('.venv': venv)",
   "language": "python",
   "name": "python3"
  },
  "language_info": {
   "codemirror_mode": {
    "name": "ipython",
    "version": 3
   },
   "file_extension": ".py",
   "mimetype": "text/x-python",
   "name": "python",
   "nbconvert_exporter": "python",
   "pygments_lexer": "ipython3",
   "version": "3.7.7"
  },
  "orig_nbformat": 4,
  "vscode": {
   "interpreter": {
    "hash": "901d96e18e73e1f5e5b465b7737beef4220779eb93c8a4d86ff5ff5359869a40"
   }
  }
 },
 "nbformat": 4,
 "nbformat_minor": 2
}
